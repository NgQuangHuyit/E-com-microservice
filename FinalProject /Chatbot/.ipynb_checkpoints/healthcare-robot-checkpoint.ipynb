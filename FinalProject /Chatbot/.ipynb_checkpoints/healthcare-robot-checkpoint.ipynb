{
 "cells": [
  {
   "cell_type": "code",
   "execution_count": 1,
   "id": "initial_id",
   "metadata": {},
   "outputs": [
    {
     "name": "stderr",
     "output_type": "stream",
     "text": [
      "2025-04-17 10:19:30.570100: I tensorflow/core/util/port.cc:110] oneDNN custom operations are on. You may see slightly different numerical results due to floating-point round-off errors from different computation orders. To turn them off, set the environment variable `TF_ENABLE_ONEDNN_OPTS=0`.\n",
      "2025-04-17 10:19:30.571559: I tensorflow/tsl/cuda/cudart_stub.cc:28] Could not find cuda drivers on your machine, GPU will not be used.\n",
      "2025-04-17 10:19:30.595412: I tensorflow/tsl/cuda/cudart_stub.cc:28] Could not find cuda drivers on your machine, GPU will not be used.\n",
      "2025-04-17 10:19:30.596126: I tensorflow/core/platform/cpu_feature_guard.cc:182] This TensorFlow binary is optimized to use available CPU instructions in performance-critical operations.\n",
      "To enable the following instructions: AVX2 AVX_VNNI FMA, in other operations, rebuild TensorFlow with the appropriate compiler flags.\n",
      "2025-04-17 10:19:31.028679: W tensorflow/compiler/tf2tensorrt/utils/py_utils.cc:38] TF-TRT Warning: Could not find TensorRT\n"
     ]
    }
   ],
   "source": [
    "import numpy as np\n",
    "import tensorflow as tf\n",
    "import pyttsx3\n",
    "import matplotlib.pyplot as plt"
   ]
  },
  {
   "cell_type": "code",
   "execution_count": 2,
   "id": "7946fd87-3bc6-41cf-8220-60b2f9aaaef9",
   "metadata": {},
   "outputs": [],
   "source": [
    "\n",
    "# Expanded symptom list\n",
    "symptom_names = [\"Fever\", \"Cough\", \"Sneezing\", \"Fatigue\", \"Loss of Taste\",\n",
    "                 \"Itchy Eyes\", \"Sore Throat\", \"Headache\", \"Body Aches\", \"Shortness of Breath\"]\n",
    "\n",
    "# Expanded training data (add more realistic combinations)\n",
    "X_train = np.array([\n",
    "    [1, 1, 0, 1, 0, 0, 1, 1, 1, 0],  # Flu\n",
    "    [1, 1, 0, 1, 0, 0, 0, 1, 1, 0],  # Flu variant\n",
    "    [0, 1, 1, 0, 0, 0, 1, 0, 0, 0],  # Cold\n",
    "    [0, 0, 1, 0, 0, 1, 0, 0, 0, 0],  # Cold variant\n",
    "    [1, 1, 0, 1, 1, 0, 0, 1, 1, 1],  # COVID-19\n",
    "    [1, 1, 0, 0, 1, 0, 0, 0, 0, 1],  # COVID-19 variant\n",
    "    [0, 0, 1, 0, 0, 1, 0, 1, 0, 0],  # Allergy\n",
    "    [0, 1, 1, 0, 0, 1, 0, 0, 0, 0],  # Allergy variant\n",
    "], dtype=np.float32)\n",
    "y_train = tf.keras.utils.to_categorical([0, 0, 1, 1, 2, 2, 3, 3], num_classes=4)"
   ]
  },
  {
   "cell_type": "code",
   "execution_count": 3,
   "id": "ae025428-ce77-412d-887c-855a9dd27a2f",
   "metadata": {},
   "outputs": [
    {
     "data": {
      "text/plain": [
       "<keras.callbacks.History at 0x70b17496d9c0>"
      ]
     },
     "execution_count": 3,
     "metadata": {},
     "output_type": "execute_result"
    }
   ],
   "source": [
    "def build_model():\n",
    "    inputs = tf.keras.Input(shape=(6,))\n",
    "    x = tf.keras.layers.Dense(32, activation='relu')(inputs)\n",
    "    x = tf.keras.layers.BatchNormalization()(x)\n",
    "    x = tf.keras.layers.Dropout(0.4)(x)\n",
    "    x = tf.keras.layers.Dense(16, activation='relu')(x)\n",
    "    x = tf.keras.layers.BatchNormalization()(x)\n",
    "    x = tf.keras.layers.Dropout(0.4)(x)\n",
    "    outputs = tf.keras.layers.Dense(4, activation='softmax')(x)\n",
    "    return tf.keras.Model(inputs, outputs)\n",
    "\n",
    "# Add validation split for better monitoring\n",
    "model = build_model()\n",
    "model.compile(optimizer=tf.keras.optimizers.Adam(learning_rate=0.001),\n",
    "              loss='categorical_crossentropy',\n",
    "              metrics=['accuracy'])\n",
    "history = model.fit(X_train, y_train, epochs=150, validation_split=0.2, verbose=1)"
   ]
  },
  {
   "cell_type": "code",
   "execution_count": 4,
   "id": "da57e382-1005-4be6-a80a-950fc7575648",
   "metadata": {},
   "outputs": [],
   "source": [
    "def speak(text):\n",
    "    engine = pyttsx3.init()\n",
    "    engine.say(text)\n",
    "    engine.runAndWait()"
   ]
  },
  {
   "cell_type": "code",
   "execution_count": 5,
   "id": "24723653-6806-4474-912b-845f9b22371c",
   "metadata": {},
   "outputs": [],
   "source": [
    "def predict_with_uncertainty(model, x, n_iter=100):\n",
    "    preds = np.array([model(x, training=True).numpy() for _ in range(n_iter)])\n",
    "    mean = preds.mean(axis=0)\n",
    "    std = preds.std(axis=0)\n",
    "    return mean, std"
   ]
  },
  {
   "cell_type": "code",
   "execution_count": 6,
   "id": "b1b8a8cd-62dd-4968-aea0-250af4b056e1",
   "metadata": {},
   "outputs": [
    {
     "name": "stdout",
     "output_type": "stream",
     "text": [
      "Hello! I am your virtual health assistant robot.\n",
      "Please answer the following questions with Y/N:\n"
     ]
    },
    {
     "name": "stdin",
     "output_type": "stream",
     "text": [
      "Do you have Fever? (Y/N):  Y\n",
      "Do you have Cough? (Y/N):  Y\n",
      "Do you have Sneezing? (Y/N):  N\n",
      "Do you have Fatigue? (Y/N):  Y\n",
      "Do you have Loss of Taste? (Y/N):  Y\n",
      "Do you have Itchy Eyes? (Y/N):  N\n"
     ]
    },
    {
     "name": "stdout",
     "output_type": "stream",
     "text": [
      "\n",
      "Diagnosis with Probabilities and Uncertainty:\n",
      "Flu: P=0.350, Uncertainty=0.158\n",
      "Cold: P=0.225, Uncertainty=0.122\n",
      "COVID-19: P=0.243, Uncertainty=0.095\n",
      "Allergy: P=0.182, Uncertainty=0.062\n",
      "\n",
      "Diagnosis: Flu (±0.158)\n"
     ]
    },
    {
     "name": "stderr",
     "output_type": "stream",
     "text": [
      "Exception ignored on calling ctypes callback function: {'thread.local.0x70b245cc8220': <_thread._localdummy object at 0x70b1746143b0>, 'Py_Repr': [{...}, [...]]}\n",
      "Traceback (most recent call last):\n",
      "  File \"/home/nqhuy/workBench/cq04_nqhuy_ass2/.venv/lib/python3.10/site-packages/pyttsx3/drivers/espeak.py\", line 193, in _onSynth\n",
      "    self._proxy.notify('finished-utterance', completed=True)\n",
      "ReferenceError: weakly-referenced object no longer exists\n"
     ]
    },
    {
     "name": "stdout",
     "output_type": "stream",
     "text": [
      "Test: Influenza A/B test\n",
      "Medicine: Oseltamivir (Tamiflu)\n"
     ]
    },
    {
     "data": {
      "image/png": "[encoded data removed]",
      "text/plain": [
       "<Figure size 640x480 with 1 Axes>"
      ]
     },
     "metadata": {},
     "output_type": "display_data"
    }
   ],
   "source": [
    "def run_virtual_robot():\n",
    "    print(\"Hello! I am your virtual health assistant robot.\")\n",
    "    speak(\"Hello! I am your virtual health assistant robot.\")\n",
    "\n",
    "    # Initialize symptoms array with zeros\n",
    "    symptom_names = [\"Fever\", \"Cough\", \"Sneezing\", \"Fatigue\", \"Loss of Taste\",\n",
    "                    \"Itchy Eyes\", \"Sore Throat\", \"Headache\", \"Body Aches\", \"Shortness of Breath\"]\n",
    "    input_symptoms = np.zeros(len(symptom_names), dtype=np.float32)\n",
    "\n",
    "    # Collect symptoms with severity\n",
    "    for i, name in enumerate(symptom_names):\n",
    "        ans = input(f\"Do you have {name}? (Y/N): \").strip().lower()\n",
    "        if ans == 'y':\n",
    "            severity = input(f\"On a scale of 1-5, how severe is your {name.lower()}? \")\n",
    "            try:\n",
    "                severity = int(severity)\n",
    "                if 1 <= severity <= 5:\n",
    "                    input_symptoms[i] = severity / 5.0  # Normalize to 0-1\n",
    "                else:\n",
    "                    input_symptoms[i] = 1.0  # Default to 1 if invalid input\n",
    "            except ValueError:\n",
    "                input_symptoms[i] = 1.0  # Default to 1 if invalid input\n",
    "\n",
    "    # Get duration of symptoms\n",
    "    duration = input(\"How many days have you had these symptoms? \")\n",
    "    try:\n",
    "        duration = int(duration)\n",
    "    except ValueError:\n",
    "        duration = 1\n",
    "    diseases = [\"Flu\", \"Cold\", \"COVID-19\", \"Allergy\"]\n",
    "    # Make prediction with uncertainty\n",
    "    input_array = np.array([input_symptoms[:6]], dtype=np.float32)  # Only use first 6 symptoms for model compatibility\n",
    "    mean_probs, std_probs = predict_with_uncertainty(model, input_array)\n",
    "    most_likely = np.argmax(mean_probs)\n",
    "    diagnosis = diseases[most_likely]\n",
    "    confidence = mean_probs[0][most_likely]\n",
    "\n",
    "    # Display results with recommendations based on confidence\n",
    "    print(\"\\nDiagnosis with Probabilities and Uncertainty:\")\n",
    "    for i, dis in enumerate(diseases):\n",
    "        print(f\"{dis}: P={mean_probs[0][i]:.3f}, Uncertainty={std_probs[0][i]:.3f}\")\n",
    "\n",
    "    # Customize advice based on diagnosis and duration\n",
    "    test_map = {\n",
    "        \"Flu\": \"Influenza A/B test\",\n",
    "        \"Cold\": \"Nasal swab\",\n",
    "        \"COVID-19\": \"PCR test\",\n",
    "        \"Allergy\": \"Allergy skin test\"\n",
    "    }\n",
    "    medicine_map = {\n",
    "        \"Flu\": \"Oseltamivir (Tamiflu)\" if duration <= 2 else \"Rest, fluids, and acetaminophen\",\n",
    "        \"Cold\": \"Rest, fluids, antihistamines\",\n",
    "        \"COVID-19\": \"Isolation + Paracetamol, call healthcare provider immediately\",\n",
    "        \"Allergy\": \"Loratadine or Cetirizine\"\n",
    "    }\n",
    "\n",
    "    # Add urgency based on confidence and diagnosis\n",
    "    urgency = \"medium\"\n",
    "    if diagnosis == \"COVID-19\" and confidence > 0.6:\n",
    "        urgency = \"high\"\n",
    "    elif confidence < 0.5 or std_probs[0][most_likely] > 0.2:\n",
    "        urgency = \"uncertain\"\n",
    "\n",
    "    speak(f\"You may have {diagnosis}.\")\n",
    "    print(f\"\\nDiagnosis: {diagnosis} (±{std_probs[0][most_likely]:.3f})\")\n",
    "    print(f\"Test: {test_map[diagnosis]}\")\n",
    "    print(f\"Medicine: {medicine_map[diagnosis]}\")\n",
    "\n",
    "    if urgency == \"high\":\n",
    "        speak(\"This condition requires immediate medical attention!\")\n",
    "        print(\"\\n⚠️ URGENT: Please seek medical attention immediately!\")\n",
    "    elif urgency == \"uncertain\":\n",
    "        speak(\"My diagnosis confidence is low. Please consult a doctor for proper evaluation.\")\n",
    "        print(\"\\n⚠️ NOTE: Confidence in diagnosis is low. Please consult a healthcare professional.\")\n",
    "\n",
    "    # Visualization\n",
    "    plt.figure(figsize=(10, 6))\n",
    "    bars = plt.bar(diseases, mean_probs[0], yerr=std_probs[0], capsize=5, color='skyblue')\n",
    "    plt.axhline(y=0.5, color='r', linestyle='--', alpha=0.3)\n",
    "    plt.ylabel(\"Probability\")\n",
    "    plt.title(\"Diagnosis Confidence\")\n",
    "\n",
    "    # Highlight the most likely diagnosis\n",
    "    bars[most_likely].set_color('orange')\n",
    "    plt.tight_layout()\n",
    "    plt.show()"
   ]
  },
  {
   "cell_type": "code",
   "execution_count": null,
   "id": "7c5cd64d-0a1b-4dc2-8fca-57240e22baf4",
   "metadata": {},
   "outputs": [],
   "source": []
  }
 ],
 "metadata": {
  "kernelspec": {
   "display_name": "Python 3 (ipykernel)",
   "language": "python",
   "name": "python3"
  },
  "language_info": {
   "codemirror_mode": {
    "name": "ipython",
    "version": 3
   },
   "file_extension": ".py",
   "mimetype": "text/x-python",
   "name": "python",
   "nbconvert_exporter": "python",
   "pygments_lexer": "ipython3",
   "version": "3.10.12"
  }
 },
 "nbformat": 4,
 "nbformat_minor": 5
}
