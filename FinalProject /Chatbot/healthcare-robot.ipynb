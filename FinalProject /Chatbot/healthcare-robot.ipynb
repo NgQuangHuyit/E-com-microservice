{
 "cells": [
  {
   "cell_type": "code",
   "execution_count": 1,
   "id": "initial_id",
   "metadata": {},
   "outputs": [
    {
     "name": "stderr",
     "output_type": "stream",
     "text": [
      "2025-04-17 11:08:01.943735: I tensorflow/core/util/port.cc:110] oneDNN custom operations are on. You may see slightly different numerical results due to floating-point round-off errors from different computation orders. To turn them off, set the environment variable `TF_ENABLE_ONEDNN_OPTS=0`.\n",
      "2025-04-17 11:08:01.945151: I tensorflow/tsl/cuda/cudart_stub.cc:28] Could not find cuda drivers on your machine, GPU will not be used.\n",
      "2025-04-17 11:08:01.971399: I tensorflow/tsl/cuda/cudart_stub.cc:28] Could not find cuda drivers on your machine, GPU will not be used.\n",
      "2025-04-17 11:08:01.972514: I tensorflow/core/platform/cpu_feature_guard.cc:182] This TensorFlow binary is optimized to use available CPU instructions in performance-critical operations.\n",
      "To enable the following instructions: AVX2 AVX_VNNI FMA, in other operations, rebuild TensorFlow with the appropriate compiler flags.\n",
      "2025-04-17 11:08:02.390518: W tensorflow/compiler/tf2tensorrt/utils/py_utils.cc:38] TF-TRT Warning: Could not find TensorRT\n"
     ]
    }
   ],
   "source": [
    "import numpy as np\n",
    "import tensorflow as tf\n",
    "import pyttsx3\n",
    "import matplotlib.pyplot as plt"
   ]
  },
  {
   "cell_type": "code",
   "execution_count": 2,
   "id": "7946fd87-3bc6-41cf-8220-60b2f9aaaef9",
   "metadata": {},
   "outputs": [],
   "source": [
    "\n",
    "X_train = np.array([\n",
    "    # Flu examples - fever, cough, fatigue\n",
    "    [1, 1, 0, 1, 0, 0],\n",
    "    [1, 1, 1, 1, 0, 0],\n",
    "    [1, 0, 0, 1, 0, 0],\n",
    "    # Cold examples - cough, sneezing\n",
    "    [0, 1, 1, 0, 0, 0],\n",
    "    [0, 1, 1, 1, 0, 0],\n",
    "    [0, 0, 1, 1, 0, 0],\n",
    "    # COVID-19 examples - fever, cough, loss of taste\n",
    "    [1, 1, 0, 0, 1, 0],\n",
    "    [1, 1, 0, 1, 1, 0],\n",
    "    [1, 0, 0, 1, 1, 0],\n",
    "    # Allergy examples - sneezing, itchy eyes\n",
    "    [0, 0, 1, 0, 0, 1],\n",
    "    [0, 1, 1, 0, 0, 1],\n",
    "    [0, 0, 1, 1, 0, 1]\n",
    "], dtype=np.float32)\n",
    "\n",
    "y_train = tf.keras.utils.to_categorical([0, 0, 0, 1, 1, 1, 2, 2, 2, 3, 3, 3], num_classes=4)\n",
    "diseases = [\"Flu\", \"Cold\", \"COVID-19\", \"Allergy\"]"
   ]
  },
  {
   "cell_type": "code",
   "execution_count": 3,
   "id": "ae025428-ce77-412d-887c-855a9dd27a2f",
   "metadata": {},
   "outputs": [
    {
     "data": {
      "text/plain": [
       "<keras.callbacks.History at 0x7646b8f753f0>"
      ]
     },
     "execution_count": 3,
     "metadata": {},
     "output_type": "execute_result"
    }
   ],
   "source": [
    "def build_model():\n",
    "    inputs = tf.keras.Input(shape=(6,))\n",
    "    x = tf.keras.layers.Dense(16, activation='relu')(inputs)\n",
    "    x = tf.keras.layers.Dropout(0.5)(x)  # Remove training=True flag\n",
    "    x = tf.keras.layers.Dense(16, activation='relu')(x)\n",
    "    x = tf.keras.layers.Dropout(0.5)(x)  # Remove training=True flag\n",
    "    outputs = tf.keras.layers.Dense(4, activation='softmax')(x)\n",
    "    return tf.keras.Model(inputs, outputs)\n",
    "model = build_model()\n",
    "model.compile(optimizer='adam', loss='categorical_crossentropy', metrics=['accuracy'])\n",
    "model.fit(X_train, y_train, epochs=100, verbose=0)"
   ]
  },
  {
   "cell_type": "code",
   "execution_count": 4,
   "id": "da57e382-1005-4be6-a80a-950fc7575648",
   "metadata": {},
   "outputs": [],
   "source": [
    "def speak(text):\n",
    "    engine = pyttsx3.init()\n",
    "    engine.say(text)\n",
    "    engine.runAndWait()"
   ]
  },
  {
   "cell_type": "code",
   "execution_count": 5,
   "id": "24723653-6806-4474-912b-845f9b22371c",
   "metadata": {},
   "outputs": [],
   "source": [
    "def predict_with_uncertainty(model, x, n_iter=100):\n",
    "    preds = np.array([model(x, training=True).numpy() for _ in range(n_iter)])\n",
    "    mean = preds.mean(axis=0)\n",
    "    std = preds.std(axis=0)\n",
    "    return mean, std"
   ]
  },
  {
   "cell_type": "code",
   "execution_count": 7,
   "id": "b1b8a8cd-62dd-4968-aea0-250af4b056e1",
   "metadata": {},
   "outputs": [
    {
     "name": "stdout",
     "output_type": "stream",
     "text": [
      "Hello! I am your virtual health assistant robot.\n",
      "Please answer the following questions with Y/N:\n"
     ]
    },
    {
     "name": "stdin",
     "output_type": "stream",
     "text": [
      "Do you have Fever? (Y/N):  Y\n",
      "Do you have Cough? (Y/N):  Y\n",
      "Do you have Sneezing? (Y/N):  Y\n",
      "Do you have Fatigue? (Y/N):  N\n",
      "Do you have Loss of Taste? (Y/N):  N\n",
      "Do you have Itchy Eyes? (Y/N):  N\n"
     ]
    },
    {
     "name": "stdout",
     "output_type": "stream",
     "text": [
      "\n",
      "Diagnosis with Probabilities and Uncertainty:\n",
      "Flu: P=0.247, Uncertainty=0.075\n",
      "Cold: P=0.284, Uncertainty=0.068\n",
      "COVID-19: P=0.234, Uncertainty=0.053\n",
      "Allergy: P=0.235, Uncertainty=0.090\n",
      "\n",
      "Diagnosis: Cold (±0.068)\n"
     ]
    },
    {
     "name": "stderr",
     "output_type": "stream",
     "text": [
      "Exception ignored on calling ctypes callback function: <bound method DriverProxy.setBusy of <pyttsx3.driver.DriverProxy object at 0x7647883d7eb0>>\n",
      "Traceback (most recent call last):\n",
      "  File \"/home/nqhuy/workBench/cq04_nqhuy_ass2/.venv/lib/python3.10/site-packages/pyttsx3/drivers/espeak.py\", line 193, in _onSynth\n",
      "    self._proxy.notify('finished-utterance', completed=True)\n",
      "ReferenceError: weakly-referenced object no longer exists\n"
     ]
    },
    {
     "name": "stdout",
     "output_type": "stream",
     "text": [
      "Test: Nasal swab\n",
      "Medicine: Rest, fluids, antihistamines\n"
     ]
    },
    {
     "data": {
      "image/png": "[encoded data removed]",
      "text/plain": [
       "<Figure size 640x480 with 1 Axes>"
      ]
     },
     "metadata": {},
     "output_type": "display_data"
    },
    {
     "name": "stderr",
     "output_type": "stream",
     "text": [
      "Exception ignored on calling ctypes callback function: <bound method EspeakDriver._onSynth of <pyttsx3.drivers.espeak.EspeakDriver object at 0x7647883d79d0>>\n",
      "Traceback (most recent call last):\n",
      "  File \"/home/nqhuy/workBench/cq04_nqhuy_ass2/.venv/lib/python3.10/site-packages/pyttsx3/drivers/espeak.py\", line 193, in _onSynth\n",
      "    self._proxy.notify('finished-utterance', completed=True)\n",
      "ReferenceError: weakly-referenced object no longer exists\n"
     ]
    }
   ],
   "source": [
    "def run_virtual_robot():\n",
    "    print(\"Hello! I am your virtual health assistant robot.\")\n",
    "    print(\"Please answer the following questions with Y/N:\")\n",
    "\n",
    "    symptom_names = [\"Fever\", \"Cough\", \"Sneezing\", \"Fatigue\", \"Loss of Taste\", \"Itchy Eyes\"]\n",
    "    input_symptoms = []\n",
    "\n",
    "    for name in symptom_names:\n",
    "        ans = input(f\"Do you have {name}? (Y/N): \").strip().lower()\n",
    "        input_symptoms.append(1 if ans == 'y' else 0)\n",
    "\n",
    "    input_array = np.array([input_symptoms], dtype=np.float32)\n",
    "    mean_probs, std_probs = predict_with_uncertainty(model, input_array)\n",
    "    most_likely = np.argmax(mean_probs)\n",
    "    diagnosis = diseases[most_likely]\n",
    "\n",
    "    print(\"\\nDiagnosis with Probabilities and Uncertainty:\")\n",
    "    for i, dis in enumerate(diseases):\n",
    "        print(f\"{dis}: P={mean_probs[0][i]:.3f}, Uncertainty={std_probs[0][i]:.3f}\")\n",
    "\n",
    "    speak(f\"You may have {diagnosis}.\")\n",
    "    print(f\"\\nDiagnosis: {diagnosis} (±{std_probs[0][most_likely]:.3f})\")\n",
    "\n",
    "    test_map = {\n",
    "        \"Flu\": \"Influenza A/B test\",\n",
    "        \"Cold\": \"Nasal swab\",\n",
    "        \"COVID-19\": \"PCR test\",\n",
    "        \"Allergy\": \"Allergy skin test\"\n",
    "    }\n",
    "    medicine_map = {\n",
    "        \"Flu\": \"Oseltamivir (Tamiflu)\",\n",
    "        \"Cold\": \"Rest, fluids, antihistamines\",\n",
    "        \"COVID-19\": \"Isolation + Paracetamol\",\n",
    "        \"Allergy\": \"Loratadine or Cetirizine\"\n",
    "    }\n",
    "\n",
    "    speak(f\"I recommend you take a {test_map[diagnosis]} and consider taking {medicine_map[diagnosis]}\")\n",
    "    print(f\"Test: {test_map[diagnosis]}\")\n",
    "    print(f\"Medicine: {medicine_map[diagnosis]}\")\n",
    "\n",
    "    plt.bar(diseases, mean_probs[0], yerr=std_probs[0], capsize=5, color='skyblue')\n",
    "    plt.ylabel(\"Probability\")\n",
    "    plt.title(\"Diagnosis Confidence\")\n",
    "    plt.show()\n",
    "\n",
    "# Gọi hàm\n",
    "run_virtual_robot()\n"
   ]
  },
  {
   "cell_type": "code",
   "execution_count": null,
   "id": "7c5cd64d-0a1b-4dc2-8fca-57240e22baf4",
   "metadata": {},
   "outputs": [],
   "source": []
  }
 ],
 "metadata": {
  "kernelspec": {
   "display_name": "Python 3 (ipykernel)",
   "language": "python",
   "name": "python3"
  },
  "language_info": {
   "codemirror_mode": {
    "name": "ipython",
    "version": 3
   },
   "file_extension": ".py",
   "mimetype": "text/x-python",
   "name": "python",
   "nbconvert_exporter": "python",
   "pygments_lexer": "ipython3",
   "version": "3.10.12"
  }
 },
 "nbformat": 4,
 "nbformat_minor": 5
}
